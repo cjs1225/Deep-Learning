{
 "cells": [
  {
   "cell_type": "markdown",
   "metadata": {},
   "source": [
    "# Jupyter Notebook(Kaggle Notebook) Shortcuts"
   ]
  },
  {
   "cell_type": "markdown",
   "metadata": {},
   "source": [
    "### Tips\n",
    "\n",
    "- Help > keyboard shortcuts\n",
    "- press 'h' key on command mode\n",
    "- Cmd + Shift + P for Mac, Ctrl + Shift + P for Linux, Windows Users"
   ]
  },
  {
   "cell_type": "markdown",
   "metadata": {},
   "source": [
    "## Useful shortcuts\n",
    "\n",
    "- Esc: take you into command mode\n",
    "- Enter: take you from command mode back into edit mode\n",
    "--------\n",
    "- Any mode: \n",
    "      - shift + enter: execute the cell and move to next cell\n",
    "      - ctrl + enter: execute the cell and be in the present cell\n",
    "---------\n",
    "- when command mode:\n",
    "      - a: insert a new cell above the current cell\n",
    "      - b: insert a new cell below the current cell\n",
    "      - m: change the cell into markdown\n",
    "      - y: change the cell back into code\n",
    "      - dd(press key twice): delete the current cell \n",
    "      - x: cut the cell which can be paste anytimes\n",
    "      - c: copy the cell that can be paste anytimes\n",
    "      - v: paste the cell\n",
    "      - esc + o: toggle cell output\n",
    "      - esc + f: find & replace on my code\n",
    "> Why select cells: Selected cells can run/delete/copy/cut/paste together\n",
    "      - shift + Up(shift + K): select cells in upwards direction\n",
    "      - shift + Down(shift + J): select cells in downwards direction\n",
    "      - shift + m : merge the selected cells\n",
    "---------      \n",
    "- when edit mode:\n",
    "      - ctrl + shift + - : split the cell into two cells where your cursor is\n",
    "      - command + / : comment\n",
    "      - command + d : delete whole line"
   ]
  },
  {
   "cell_type": "code",
   "execution_count": null,
   "metadata": {},
   "outputs": [],
   "source": []
  }
 ],
 "metadata": {
  "kernelspec": {
   "display_name": "Python 3",
   "language": "python",
   "name": "python3"
  },
  "language_info": {
   "codemirror_mode": {
    "name": "ipython",
    "version": 3
   },
   "file_extension": ".py",
   "mimetype": "text/x-python",
   "name": "python",
   "nbconvert_exporter": "python",
   "pygments_lexer": "ipython3",
   "version": "3.6.6"
  }
 },
 "nbformat": 4,
 "nbformat_minor": 2
}
